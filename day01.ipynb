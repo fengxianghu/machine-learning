{
 "cells": [
  {
   "cell_type": "code",
   "execution_count": 4,
   "metadata": {},
   "outputs": [
    {
     "name": "stdout",
     "output_type": "stream",
     "text": [
      "<class 'numpy.ndarray'>\n",
      "[['Year' 'WHO region' 'Country' 'Beverage Types' 'Display Value']\n",
      " ['1986' 'Western Pacific' 'Viet Nam' 'Wine' '0']\n",
      " ['1986' 'Americas' 'Uruguay' 'Other' '0.5']\n",
      " ...\n",
      " ['1987' 'Africa' 'Malawi' 'Other' '0.75']\n",
      " ['1989' 'Americas' 'Bahamas' 'Wine' '1.5']\n",
      " ['1985' 'Africa' 'Malawi' 'Spirits' '0.31']]\n"
     ]
    }
   ],
   "source": [
    "\n",
    "import numpy\n",
    "\n",
    "world_alcohol = numpy.genfromtxt(\"D:\\\\Onedrive\\\\Documents\\\\codes\\\\AI\\\\machine-learning\\\\world_alcohol.txt\",delimiter=',',dtype=str)\n",
    "\n",
    "print(type(world_alcohol))# 整体类型\n",
    "print(world_alcohol)\n",
    "#print(help(numpy.genfromtxt))#查文档!\n"
   ]
  },
  {
   "cell_type": "code",
   "execution_count": 5,
   "metadata": {},
   "outputs": [
    {
     "name": "stdout",
     "output_type": "stream",
     "text": [
      "[ 5 10 15 20]\n"
     ]
    }
   ],
   "source": [
    "vector = numpy.array([5,10,15,20])#转化成了矩阵格式\n",
    "print(vector)\n"
   ]
  },
  {
   "cell_type": "code",
   "execution_count": 6,
   "metadata": {},
   "outputs": [
    {
     "name": "stdout",
     "output_type": "stream",
     "text": [
      "[[ 5 10 15]\n",
      " [20 25 30]\n",
      " [35 40 45]]\n"
     ]
    }
   ],
   "source": [
    "matrix = numpy.array([[5,10,15],[20,25,30],[35,40,45]])\n",
    "print(matrix)"
   ]
  },
  {
   "cell_type": "code",
   "execution_count": 7,
   "metadata": {},
   "outputs": [
    {
     "name": "stdout",
     "output_type": "stream",
     "text": [
      "(4,)\n",
      "(3, 3)\n"
     ]
    }
   ],
   "source": [
    "vector = numpy.array([1,2,3,4])\n",
    "print(vector.shape)\n",
    "# 取数据\n",
    "matrix = numpy.array([[5,10,15],[20,25,30],[35,40,45]])\n",
    "print(matrix.shape)\n"
   ]
  },
  {
   "cell_type": "code",
   "execution_count": null,
   "metadata": {},
   "outputs": [],
   "source": []
  },
  {
   "cell_type": "code",
   "execution_count": 8,
   "metadata": {},
   "outputs": [
    {
     "name": "stdout",
     "output_type": "stream",
     "text": [
      "[1. 2. 3. 4.]\n",
      "[1 2 3 4]\n",
      "float64\n",
      "int32\n"
     ]
    }
   ],
   "source": [
    "import numpy \n",
    "numbers1 = numpy.array([1,2,3,4.0])\n",
    "numbers2 = numpy.array([1,2,3,4])\n",
    "print(numbers1)\n",
    "print(numbers2)\n",
    "print(numbers1.dtype)\n",
    "print(numbers2.dtype)"
   ]
  },
  {
   "cell_type": "code",
   "execution_count": 9,
   "metadata": {},
   "outputs": [
    {
     "name": "stdout",
     "output_type": "stream",
     "text": [
      "0\n",
      "Uruguay\n",
      "[1 2 3]\n",
      "[10 25 40]\n",
      "[20 25 30]\n",
      "[[ 5 10]\n",
      " [20 25]\n",
      " [35 40]]\n"
     ]
    }
   ],
   "source": [
    "# 取数据\n",
    "\n",
    "import numpy\n",
    "\n",
    "world_alcohol = numpy.genfromtxt(\"D:\\\\Onedrive\\\\Documents\\\\codes\\\\AI\\\\machine-learning\\\\world_alcohol.txt\",delimiter=',',dtype=str)\n",
    "\n",
    "#根据索引取数据\n",
    "uruguay_other_1996 = world_alcohol[1,4]# 这里用中括号\n",
    "third_country = world_alcohol[2,2]\n",
    "print(uruguay_other_1996)\n",
    "print(third_country)\n",
    "\n",
    "\n",
    "vector = numpy.array([1,2,3,4])\n",
    "print(vector[0:3])#开区间，不包含第三个数\n",
    "\n",
    "matrix = numpy.array([[5,10,15],[20,25,30],[35,40,45]])\n",
    "print(matrix[:,1])\n",
    "print(matrix[1,:])\n",
    "print(matrix[:,0:2])"
   ]
  },
  {
   "cell_type": "code",
   "execution_count": 22,
   "metadata": {},
   "outputs": [
    {
     "name": "stdout",
     "output_type": "stream",
     "text": [
      "[False  True False False]\n",
      "[10]\n",
      "[False  True False]\n",
      "[[20 25 30]]\n"
     ]
    }
   ],
   "source": [
    "# 做判断 \n",
    "import numpy\n",
    "vector  = numpy.array([5,10,15,20])\n",
    "equal_to_ten = (vector == 10)\n",
    "print(equal_to_ten)\n",
    "print(vector[equal_to_ten])#当成索引\n",
    "\n",
    "matrix = numpy.array([[5,10,15],[20,25,30],[35,40,45]])\n",
    "second_column_25= (matrix[:,1] == 25)\n",
    "print(second_column_25)\n",
    "print(matrix[second_column_25,:])"
   ]
  },
  {
   "cell_type": "code",
   "execution_count": null,
   "metadata": {},
   "outputs": [],
   "source": []
  }
 ],
 "metadata": {
  "kernelspec": {
   "display_name": "Python 3",
   "language": "python",
   "name": "python3"
  },
  "language_info": {
   "codemirror_mode": {
    "name": "ipython",
    "version": 3
   },
   "file_extension": ".py",
   "mimetype": "text/x-python",
   "name": "python",
   "nbconvert_exporter": "python",
   "pygments_lexer": "ipython3",
   "version": "3.8.2"
  }
 },
 "nbformat": 4,
 "nbformat_minor": 4
}
