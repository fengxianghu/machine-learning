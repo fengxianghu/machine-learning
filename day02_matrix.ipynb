{
 "cells": [
  {
   "cell_type": "code",
   "execution_count": 3,
   "metadata": {},
   "outputs": [
    {
     "name": "stdout",
     "output_type": "stream",
     "text": [
      "[0 1 2]\n",
      "[0.         1.         1.41421356]\n"
     ]
    }
   ],
   "source": [
    "# 对矩阵的操作\n",
    "import numpy as np\n",
    "B = np.arange(3)\n",
    "print(B)\n",
    "#print np.exp(B)\n",
    "print(np.sqrt(B))#sqrt 求根号"
   ]
  },
  {
   "cell_type": "code",
   "execution_count": 11,
   "metadata": {},
   "outputs": [
    {
     "ename": "SyntaxError",
     "evalue": "invalid syntax (<ipython-input-11-d4043d285e39>, line 11)",
     "output_type": "error",
     "traceback": [
      "\u001b[1;36m  File \u001b[1;32m\"<ipython-input-11-d4043d285e39>\"\u001b[1;36m, line \u001b[1;32m11\u001b[0m\n\u001b[1;33m    print(a.resize(2,6))\u001b[0m\n\u001b[1;37m        ^\u001b[0m\n\u001b[1;31mSyntaxError\u001b[0m\u001b[1;31m:\u001b[0m invalid syntax\n"
     ]
    }
   ],
   "source": [
    "#矩阵->向量  向量->矩阵\n",
    "a = np.floor(10*np.random.random((3,4)))#floor地板\n",
    "#print(a)\n",
    "\n",
    "## flatten the array\n",
    "#print a.ravel() # 解开->变成一个向量\n",
    "#a.shape = (6, 2)# 拉平了之后再变成(6,2)\n",
    "#print(a) \n",
    "#print(a.T) # 求转置\n",
    "print(a.resize(2,6))\n",
    "print(a)\n",
    "\n",
    "#If a dimension is given as -1 in a reshaping operation, the other dimensions are automatically calculated:\n",
    "#a.reshape(3,-1)#当我们指定其中一个维度的时候，另一个维度我们也知道了"
   ]
  },
  {
   "cell_type": "code",
   "execution_count": 4,
   "metadata": {},
   "outputs": [
    {
     "name": "stdout",
     "output_type": "stream",
     "text": [
      "[[[0. 2. 0.]\n",
      "  [3. 6. 3.]]\n",
      "\n",
      " [[7. 4. 1.]\n",
      "  [4. 3. 6.]]\n",
      "\n",
      " [[0. 0. 4.]\n",
      "  [3. 7. 0.]]\n",
      "\n",
      " [[0. 6. 7.]\n",
      "  [9. 4. 4.]]]\n",
      "---\n",
      "[[9. 3.]\n",
      " [6. 7.]]\n",
      "---\n"
     ]
    },
    {
     "ename": "ValueError",
     "evalue": "all the input arrays must have same number of dimensions, but the array at index 0 has 3 dimension(s) and the array at index 1 has 2 dimension(s)",
     "output_type": "error",
     "traceback": [
      "\u001b[1;31m---------------------------------------------------------------------------\u001b[0m",
      "\u001b[1;31mValueError\u001b[0m                                Traceback (most recent call last)",
      "\u001b[1;32m<ipython-input-4-8170b990153d>\u001b[0m in \u001b[0;36m<module>\u001b[1;34m\u001b[0m\n\u001b[0;32m      8\u001b[0m \u001b[0mprint\u001b[0m\u001b[1;33m(\u001b[0m\u001b[0mb\u001b[0m\u001b[1;33m)\u001b[0m\u001b[1;33m\u001b[0m\u001b[1;33m\u001b[0m\u001b[0m\n\u001b[0;32m      9\u001b[0m \u001b[0mprint\u001b[0m \u001b[1;33m(\u001b[0m\u001b[1;34m'---'\u001b[0m\u001b[1;33m)\u001b[0m\u001b[1;33m\u001b[0m\u001b[1;33m\u001b[0m\u001b[0m\n\u001b[1;32m---> 10\u001b[1;33m \u001b[0mprint\u001b[0m\u001b[1;33m(\u001b[0m\u001b[0mnp\u001b[0m\u001b[1;33m.\u001b[0m\u001b[0mhstack\u001b[0m\u001b[1;33m(\u001b[0m\u001b[1;33m(\u001b[0m\u001b[0ma\u001b[0m\u001b[1;33m,\u001b[0m\u001b[0mb\u001b[0m\u001b[1;33m)\u001b[0m\u001b[1;33m)\u001b[0m\u001b[1;33m)\u001b[0m \u001b[1;31m# 比如同一个对象一部分特征+ 另一个对象的一部分特征\u001b[0m\u001b[1;33m\u001b[0m\u001b[1;33m\u001b[0m\u001b[0m\n\u001b[0m\u001b[0;32m     11\u001b[0m \u001b[1;31m#print(np.vstack((a,b)))\u001b[0m\u001b[1;33m\u001b[0m\u001b[1;33m\u001b[0m\u001b[1;33m\u001b[0m\u001b[0m\n\u001b[0;32m     12\u001b[0m \u001b[1;31m#np.hstack((a,b))\u001b[0m\u001b[1;33m\u001b[0m\u001b[1;33m\u001b[0m\u001b[1;33m\u001b[0m\u001b[0m\n",
      "\u001b[1;32m<__array_function__ internals>\u001b[0m in \u001b[0;36mhstack\u001b[1;34m(*args, **kwargs)\u001b[0m\n",
      "\u001b[1;32mD:\\Users\\Fengxiang Hu\\AppData\\Local\\Programs\\Python\\Python38-32\\Lib\\site-packages\\numpy\\core\\shape_base.py\u001b[0m in \u001b[0;36mhstack\u001b[1;34m(tup)\u001b[0m\n\u001b[0;32m    343\u001b[0m         \u001b[1;32mreturn\u001b[0m \u001b[0m_nx\u001b[0m\u001b[1;33m.\u001b[0m\u001b[0mconcatenate\u001b[0m\u001b[1;33m(\u001b[0m\u001b[0marrs\u001b[0m\u001b[1;33m,\u001b[0m \u001b[1;36m0\u001b[0m\u001b[1;33m)\u001b[0m\u001b[1;33m\u001b[0m\u001b[1;33m\u001b[0m\u001b[0m\n\u001b[0;32m    344\u001b[0m     \u001b[1;32melse\u001b[0m\u001b[1;33m:\u001b[0m\u001b[1;33m\u001b[0m\u001b[1;33m\u001b[0m\u001b[0m\n\u001b[1;32m--> 345\u001b[1;33m         \u001b[1;32mreturn\u001b[0m \u001b[0m_nx\u001b[0m\u001b[1;33m.\u001b[0m\u001b[0mconcatenate\u001b[0m\u001b[1;33m(\u001b[0m\u001b[0marrs\u001b[0m\u001b[1;33m,\u001b[0m \u001b[1;36m1\u001b[0m\u001b[1;33m)\u001b[0m\u001b[1;33m\u001b[0m\u001b[1;33m\u001b[0m\u001b[0m\n\u001b[0m\u001b[0;32m    346\u001b[0m \u001b[1;33m\u001b[0m\u001b[0m\n\u001b[0;32m    347\u001b[0m \u001b[1;33m\u001b[0m\u001b[0m\n",
      "\u001b[1;32m<__array_function__ internals>\u001b[0m in \u001b[0;36mconcatenate\u001b[1;34m(*args, **kwargs)\u001b[0m\n",
      "\u001b[1;31mValueError\u001b[0m: all the input arrays must have same number of dimensions, but the array at index 0 has 3 dimension(s) and the array at index 1 has 2 dimension(s)"
     ]
    }
   ],
   "source": [
    "# 拼接\n",
    "\n",
    "import numpy\n",
    "a = np.floor(10*np.random.random((4,2,3)))# 从矩阵的角度来说，random的第一个数字就是多维度的\n",
    "b = np.floor(10*np.random.random((2,2)))\n",
    "print(a)\n",
    "print ('---')\n",
    "print(b)\n",
    "print ('---')\n",
    "print(np.hstack((a,b))) # 比如同一个对象一部分特征+ 另一个对象的一部分特征y as np\n",
    "\n",
    "#print(np.vstack((a,b)))\n",
    "#np.hstack((a,b))"
   ]
  },
  {
   "cell_type": "code",
   "execution_count": 5,
   "metadata": {},
   "outputs": [
    {
     "name": "stdout",
     "output_type": "stream",
     "text": [
      "[[1. 9.]\n",
      " [9. 7.]\n",
      " [7. 9.]\n",
      " [6. 8.]\n",
      " [6. 9.]\n",
      " [1. 9.]\n",
      " [6. 5.]\n",
      " [0. 0.]\n",
      " [2. 3.]\n",
      " [9. 0.]\n",
      " [5. 4.]\n",
      " [0. 8.]]\n"
     ]
    },
    {
     "data": {
      "text/plain": [
       "[array([[1., 9.],\n",
       "        [9., 7.],\n",
       "        [7., 9.],\n",
       "        [6., 8.]]),\n",
       " array([[6., 9.],\n",
       "        [1., 9.],\n",
       "        [6., 5.],\n",
       "        [0., 0.]]),\n",
       " array([[2., 3.],\n",
       "        [9., 0.],\n",
       "        [5., 4.],\n",
       "        [0., 8.]])]"
      ]
     },
     "execution_count": 5,
     "metadata": {},
     "output_type": "execute_result"
    }
   ],
   "source": [
    "#切分\n",
    "a = np.floor(10*np.random.random((2,12)))\n",
    "#print (a)\n",
    "#print (np.hsplit(a,3)) 平均分成3列\n",
    "#print (np.hsplit(a,(3,4))   \n",
    "r# Split a after the third and the fourth column\n",
    "a = np.floor(10*np.random.random((12,2)))\n",
    "print (a)\n",
    "np.vsplit(a,3)"
   ]
  },
  {
   "cell_type": "code",
   "execution_count": 40,
   "metadata": {},
   "outputs": [
    {
     "name": "stdout",
     "output_type": "stream",
     "text": [
      "(3, 4)\n",
      "82691200\n",
      "82691200\n"
     ]
    }
   ],
   "source": [
    "#复制 1\n",
    "#simple assignments make no copy of array objects or of their data\n",
    "a = np.arange(12)\n",
    "b = a\n",
    "# a and b are two names for the same ndarray object\n",
    "b is a\n",
    "b.shape = 3,4\n",
    "print (a.shape)\n",
    "print (id(a))\n",
    "print (id(b))"
   ]
  },
  {
   "cell_type": "code",
   "execution_count": 43,
   "metadata": {},
   "outputs": [
    {
     "data": {
      "text/plain": [
       "array([[   0,    1,    2,    3],\n",
       "       [1234,    5,    6,    7],\n",
       "       [   8,    9,   10,   11]])"
      ]
     },
     "execution_count": 43,
     "metadata": {},
     "output_type": "execute_result"
    }
   ],
   "source": [
    "# 浅复制\n",
    "#The view method creates a new array object that looks at the same data.\n",
    "c = a.view()# 这才是复制操作，但是他们是共用了值，所以一旦其中一个数字发生改变，两个数组同时发生改变\n",
    "print(c is a)\n",
    "c.shape = 2,6\n",
    "#print a.shape\n",
    "c[0,4] = 1234\n",
    "print(a)"
   ]
  },
  {
   "cell_type": "code",
   "execution_count": 6,
   "metadata": {},
   "outputs": [
    {
     "name": "stdout",
     "output_type": "stream",
     "text": [
      "[[9.999e+03 9.000e+00]\n",
      " [9.000e+00 7.000e+00]\n",
      " [7.000e+00 9.000e+00]\n",
      " [6.000e+00 8.000e+00]\n",
      " [6.000e+00 9.000e+00]\n",
      " [1.000e+00 9.000e+00]\n",
      " [6.000e+00 5.000e+00]\n",
      " [0.000e+00 0.000e+00]\n",
      " [2.000e+00 3.000e+00]\n",
      " [9.000e+00 0.000e+00]\n",
      " [5.000e+00 4.000e+00]\n",
      " [0.000e+00 8.000e+00]]\n",
      "[[1. 9.]\n",
      " [9. 7.]\n",
      " [7. 9.]\n",
      " [6. 8.]\n",
      " [6. 9.]\n",
      " [1. 9.]\n",
      " [6. 5.]\n",
      " [0. 0.]\n",
      " [2. 3.]\n",
      " [9. 0.]\n",
      " [5. 4.]\n",
      " [0. 8.]]\n"
     ]
    }
   ],
   "source": [
    "# 深复制\n",
    "#The copy method makes a complete copy of the array and its data.\n",
    "d = a.copy() \n",
    "d is a\n",
    "d[0,0] = 9999\n",
    "print (d) \n",
    "print (a)"
   ]
  },
  {
   "cell_type": "code",
   "execution_count": null,
   "metadata": {
    "collapsed": true
   },
   "outputs": [],
   "source": []
  }
 ],
 "metadata": {
  "kernelspec": {
   "display_name": "Python 3",
   "language": "python",
   "name": "python3"
  },
  "language_info": {
   "codemirror_mode": {
    "name": "ipython",
    "version": 3
   },
   "file_extension": ".py",
   "mimetype": "text/x-python",
   "name": "python",
   "nbconvert_exporter": "python",
   "pygments_lexer": "ipython3",
   "version": "3.8.2"
  }
 },
 "nbformat": 4,
 "nbformat_minor": 1
}
